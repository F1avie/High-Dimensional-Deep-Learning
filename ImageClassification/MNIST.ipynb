{
 "cells": [
  {
   "cell_type": "markdown",
   "metadata": {},
   "source": [
    "<center>\n",
    "<a href=\"http://www.insa-toulouse.fr/\" ><img src=\"http://www.math.univ-toulouse.fr/~besse/Wikistat/Images/logo-insa.jpg\" style=\"float:left; max-width: 120px; display: inline\" alt=\"INSA\"/></a> \n",
    "<a href=\"http://wikistat.fr/\" ><img src=\"http://www.math.univ-toulouse.fr/~besse/Wikistat/Images/wikistat.jpg\" style=\"max-width: 150px; display: inline\"  alt=\"Wikistat\"/></a>\n",
    "<a href=\"http://www.math.univ-toulouse.fr/\" ><img src=\"http://www.math.univ-toulouse.fr/~besse/Wikistat/Images/logo_imt.jpg\" width=400,  style=\"float:right;  display: inline\" alt=\"IMT\"/> </a>\n",
    "    \n",
    "</center>"
   ]
  },
  {
   "cell_type": "markdown",
   "metadata": {},
   "source": [
    "# High Dimensional & Deep Learning : Image classification  on MNIST dataset."
   ]
  },
  {
   "cell_type": "markdown",
   "metadata": {},
   "source": [
    "## Objectives\n",
    "In this TP you will learn to : \n",
    "* Write multilayer perceptron and convolutional network with `Keras`and `Tensorflow`\n",
    "* Understand how `convolutional`, `max pooling`, `stride` and `padding`layers work.\n",
    "* Use these models for image classification."
   ]
  },
  {
   "cell_type": "markdown",
   "metadata": {},
   "source": [
    "## Libraries"
   ]
  },
  {
   "cell_type": "code",
   "execution_count": 1,
   "metadata": {},
   "outputs": [],
   "source": [
    "%matplotlib inline \n",
    "import matplotlib.pyplot as plt\n",
    "import seaborn as sb\n",
    "sb.set()\n",
    "\n",
    "import pandas as pd\n",
    "import numpy as np\n",
    "import time\n",
    "\n",
    "import tensorflow.keras.utils as ku\n",
    "import tensorflow.keras.models as km\n",
    "import tensorflow.keras.layers as kl\n",
    "import tensorflow.keras.optimizers as ko\n",
    "import tensorflow.keras.preprocessing.image as k\n",
    "\n",
    "\n",
    "from sklearn.metrics import confusion_matrix"
   ]
  },
  {
   "cell_type": "code",
   "execution_count": 2,
   "metadata": {},
   "outputs": [
    {
     "data": {
      "text/plain": [
       "'2.4.1'"
      ]
     },
     "execution_count": 2,
     "metadata": {},
     "output_type": "execute_result"
    }
   ],
   "source": [
    "import tensorflow\n",
    "tensorflow.__version__"
   ]
  },
  {
   "cell_type": "markdown",
   "metadata": {},
   "source": [
    "This code lines allow you to check if your computer is using CPU or GPU ressources. <br>\n",
    "**Warning** : You won't be able to use GPU if another notebook is open and still uses GPU."
   ]
  },
  {
   "cell_type": "code",
   "execution_count": 3,
   "metadata": {},
   "outputs": [
    {
     "name": "stdout",
     "output_type": "stream",
     "text": [
      "[name: \"/device:CPU:0\"\n",
      "device_type: \"CPU\"\n",
      "memory_limit: 268435456\n",
      "locality {\n",
      "}\n",
      "incarnation: 15682957255852991402\n",
      "]\n"
     ]
    },
    {
     "name": "stderr",
     "output_type": "stream",
     "text": [
      "2022-09-27 14:11:26.066659: I tensorflow/core/platform/cpu_feature_guard.cc:142] This TensorFlow binary is optimized with oneAPI Deep Neural Network Library (oneDNN) to use the following CPU instructions in performance-critical operations:  SSE4.1 SSE4.2 AVX AVX2 AVX512F FMA\n",
      "To enable them in other operations, rebuild TensorFlow with the appropriate compiler flags.\n"
     ]
    }
   ],
   "source": [
    "from tensorflow.python.client import device_lib\n",
    "print(device_lib.list_local_devices())"
   ]
  },
  {
   "cell_type": "markdown",
   "metadata": {},
   "source": [
    "## Dataset "
   ]
  },
  {
   "cell_type": "markdown",
   "metadata": {},
   "source": [
    "The dataset that will be used in this TP is the [MNIST DataBase](http://yann.lecun.com/exdb/mnist/).<br>\n",
    "It is composed of 70.000 images (60.000 for learning, 10.000 for test) of 28x28 pixels of handwritten digits from 0 to 9.<br>\n",
    "\n",
    "These data are directly available on the `Keras` library."
   ]
  },
  {
   "cell_type": "code",
   "execution_count": 4,
   "metadata": {},
   "outputs": [
    {
     "name": "stdout",
     "output_type": "stream",
     "text": [
      "Downloading data from https://storage.googleapis.com/tensorflow/tf-keras-datasets/mnist.npz\n",
      "11493376/11490434 [==============================] - 1s 0us/step\n",
      "Train data : 60000 images  (28/28 pixels)\n",
      "Test data : 10000 images  (28/28 pixels)\n"
     ]
    }
   ],
   "source": [
    "from tensorflow.keras.datasets import mnist\n",
    "\n",
    "(X_train, Y_train), (X_test, Y_test) = mnist.load_data()\n",
    "N_train, N_x_pixels, N_y_pixels = X_train.shape\n",
    "N_test = X_test.shape[0]\n",
    "N_classes = len(set(Y_train))\n",
    "\n",
    "print(\"Train data : %d images  (%d/%d pixels)\" %(N_train, N_x_pixels, N_y_pixels))\n",
    "print(\"Test data : %d images  (%d/%d pixels)\" %(N_test, N_x_pixels, N_y_pixels))"
   ]
  },
  {
   "cell_type": "code",
   "execution_count": 6,
   "metadata": {},
   "outputs": [
    {
     "data": {
      "image/png": "[encoded data removed]",
      "text/plain": [
       "<Figure size 300x300 with 1 Axes>"
      ]
     },
     "metadata": {},
     "output_type": "display_data"
    }
   ],
   "source": [
    "sample_index = 45\n",
    "fig =plt.figure(figsize=(3, 3))\n",
    "ax = fig.add_subplot(1,1,1)\n",
    "ax.imshow(X_train[sample_index], cmap=plt.cm.gray_r, interpolation='nearest')\n",
    "ax.set_title(\"image label: %d\" % Y_train[sample_index])\n",
    "ax.grid(False)\n",
    "ax.axis('off')\n",
    "plt.show()"
   ]
  },
  {
   "cell_type": "markdown",
   "metadata": {},
   "source": [
    "### Image example"
   ]
  },
  {
   "cell_type": "markdown",
   "metadata": {},
   "source": [
    "## Image classification with Multi Layer Perceptron model."
   ]
  },
  {
   "cell_type": "markdown",
   "metadata": {},
   "source": [
    "We will first try to learn an image classifier with a MLP model with the following architecture.\n",
    "\n",
    "* A Dense layer with 128 neurons and *relu* activation function\n",
    "* A Dropout Layer with 20% drop rate\n",
    "* A Dense layer with 128 neurons and *relu* activation function\n",
    "* A Dropout Layer with 20% drop rate\n",
    "* A Dense layer with 10 neurons (Number of classes ) and *softmax* activation function"
   ]
  },
  {
   "cell_type": "markdown",
   "metadata": {},
   "source": [
    "### Data format\n",
    "\n",
    "Some modifications are required on the data to use them with our model. \n",
    "\n",
    "The first layer is a Dense Layer, which handles 1D vectors as an input. We must first reshape the 2D 28x28 images as a 1D $28*28=784$ vector."
   ]
  },
  {
   "cell_type": "code",
   "execution_count": 26,
   "metadata": {},
   "outputs": [
    {
     "name": "stdout",
     "output_type": "stream",
     "text": [
      "1.0\n",
      "Dimensions of flatten train images : 60000 X 784\n",
      "Dimensions of flatten test images : 10000 X 784\n"
     ]
    }
   ],
   "source": [
    "X_train_flatten = X_train.reshape((N_train, N_x_pixels*N_y_pixels))/255 #deja normalisé\n",
    "X_test_flatten = X_test.reshape((N_test, N_x_pixels*N_y_pixels))/255 #deja normalise\n",
    "\n",
    "N_dim_flatten = X_train_flatten.shape[1]\n",
    "print(\"Dimensions of flatten train images : %d X %d\" %(X_train_flatten.shape))\n",
    "print(\"Dimensions of flatten test images : %d X %d\" %(X_test_flatten.shape))"
   ]
  },
  {
   "cell_type": "markdown",
   "metadata": {},
   "source": [
    "### Architecture "
   ]
  },
  {
   "cell_type": "code",
   "execution_count": 8,
   "metadata": {},
   "outputs": [
    {
     "name": "stdout",
     "output_type": "stream",
     "text": [
      "Model: \"sequential\"\n",
      "_________________________________________________________________\n",
      "Layer (type)                 Output Shape              Param #   \n",
      "=================================================================\n",
      "dense (Dense)                (None, 128)               100480    \n",
      "_________________________________________________________________\n",
      "dropout (Dropout)            (None, 128)               0         \n",
      "_________________________________________________________________\n",
      "dense_1 (Dense)              (None, 128)               16512     \n",
      "_________________________________________________________________\n",
      "dropout_1 (Dropout)          (None, 128)               0         \n",
      "_________________________________________________________________\n",
      "dense_2 (Dense)              (None, 10)                1290      \n",
      "=================================================================\n",
      "Total params: 118,282\n",
      "Trainable params: 118,282\n",
      "Non-trainable params: 0\n",
      "_________________________________________________________________\n"
     ]
    },
    {
     "name": "stderr",
     "output_type": "stream",
     "text": [
      "2022-09-27 14:14:00.267006: I tensorflow/compiler/jit/xla_cpu_device.cc:41] Not creating XLA devices, tf_xla_enable_xla_devices not set\n",
      "2022-09-27 14:14:00.270490: I tensorflow/core/common_runtime/process_util.cc:146] Creating new thread pool with default inter op setting: 2. Tune using inter_op_parallelism_threads for best performance.\n"
     ]
    }
   ],
   "source": [
    "# Définition du réseau\n",
    "model = km.Sequential()\n",
    "model.add(kl.Dense(128, activation='relu', input_shape=(N_dim_flatten,)))\n",
    "model.add(kl.Dropout(0.2))\n",
    "model.add(kl.Dense(128, activation='relu'))\n",
    "model.add(kl.Dropout(0.2))\n",
    "model.add(kl.Dense(N_classes, activation='softmax'))\n",
    "# Réumé\n",
    "model.summary()"
   ]
  },
  {
   "cell_type": "markdown",
   "metadata": {},
   "source": [
    "**Q** The summary displays the number of pararameters/weigths of the model. Retrieve these values with the formulas seen in the course."
   ]
  },
  {
   "cell_type": "raw",
   "metadata": {},
   "source": [
    "((f*f*c)+1)*n\n",
    "\n",
    "param couche 1 : 784*128+128 = 100480\n",
    "    \n",
    "param couche 2 : 128*128+128 = 16512\n",
    "\n",
    "param couche 3 : 128*10+10 = 1290\n",
    "    \n",
    "dropout = eteingnent aléatoirement 20% à chaque passage pour rajouter de l'aléa pendant le test : n'influence pas de nombre de param\n"
   ]
  },
  {
   "cell_type": "markdown",
   "metadata": {},
   "source": [
    "### Training"
   ]
  },
  {
   "cell_type": "markdown",
   "metadata": {},
   "source": [
    "You will now instantiate your model by defining :\n",
    "* An optimizer : `RMSprop`\n",
    "* a loss function : `Categorical crossentropy`\n",
    "* Metric : This argument is an option, it allows to compute the metric if you want to check the evolution of the training. Here we choose to compute the accuracy during the training.\n",
    "\n",
    "**Note** : In Keras you can choose either \"sparse_categorical_crossentropy\" or \"categorical_crossentropy\" loss. The former handles 1D (NX1) vectors where each entry contains the label of the data, i.e [0,3,5,9,3,4,...]. The latter handles only one-hot encoding of this vector, ie  2D vectors (NXN_classes) matrices. Keras has a `to_categorical` function which allows to convert a vector to its one-hot encoding representation."
   ]
  },
  {
   "cell_type": "code",
   "execution_count": 27,
   "metadata": {},
   "outputs": [],
   "source": [
    "model.compile(loss='sparse_categorical_crossentropy',\n",
    "              optimizer=ko.RMSprop(),\n",
    "              metrics=['accuracy'])"
   ]
  },
  {
   "cell_type": "code",
   "execution_count": 28,
   "metadata": {},
   "outputs": [
    {
     "name": "stdout",
     "output_type": "stream",
     "text": [
      "Epoch 1/10\n",
      "235/235 [==============================] - 2s 8ms/step - loss: 0.0410 - accuracy: 0.9871 - val_loss: 0.0857 - val_accuracy: 0.9799\n",
      "Epoch 2/10\n",
      "235/235 [==============================] - 2s 7ms/step - loss: 0.0373 - accuracy: 0.9874 - val_loss: 0.0849 - val_accuracy: 0.9802\n",
      "Epoch 3/10\n",
      "235/235 [==============================] - 2s 7ms/step - loss: 0.0372 - accuracy: 0.9883 - val_loss: 0.0829 - val_accuracy: 0.9814\n",
      "Epoch 4/10\n",
      "235/235 [==============================] - 2s 8ms/step - loss: 0.0298 - accuracy: 0.9898 - val_loss: 0.0836 - val_accuracy: 0.9793\n",
      "Epoch 5/10\n",
      "235/235 [==============================] - 2s 8ms/step - loss: 0.0336 - accuracy: 0.9897 - val_loss: 0.0893 - val_accuracy: 0.9808\n",
      "Epoch 6/10\n",
      "235/235 [==============================] - 2s 7ms/step - loss: 0.0311 - accuracy: 0.9897 - val_loss: 0.0894 - val_accuracy: 0.9800\n",
      "Epoch 7/10\n",
      "235/235 [==============================] - 2s 7ms/step - loss: 0.0294 - accuracy: 0.9900 - val_loss: 0.0858 - val_accuracy: 0.9825\n",
      "Epoch 8/10\n",
      "235/235 [==============================] - 2s 7ms/step - loss: 0.0295 - accuracy: 0.9903 - val_loss: 0.0868 - val_accuracy: 0.9810\n",
      "Epoch 9/10\n",
      "235/235 [==============================] - 2s 7ms/step - loss: 0.0264 - accuracy: 0.9915 - val_loss: 0.0839 - val_accuracy: 0.9807\n",
      "Epoch 10/10\n",
      "235/235 [==============================] - 2s 7ms/step - loss: 0.0298 - accuracy: 0.9900 - val_loss: 0.0834 - val_accuracy: 0.9810\n"
     ]
    }
   ],
   "source": [
    "batch_size = 256\n",
    "epochs=10\n",
    "ts = time.time()\n",
    "\n",
    "history = model.fit(X_train_flatten, Y_train,\n",
    "                    batch_size=batch_size,\n",
    "                    epochs=epochs,\n",
    "                    verbose=1,\n",
    "                    validation_data=(X_test_flatten, Y_test))\n",
    "te = time.time()\n",
    "t_train_mpl = te-ts"
   ]
  },
  {
   "cell_type": "markdown",
   "metadata": {},
   "source": [
    "### Results"
   ]
  },
  {
   "cell_type": "code",
   "execution_count": 29,
   "metadata": {},
   "outputs": [
    {
     "name": "stdout",
     "output_type": "stream",
     "text": [
      "Test loss: 0.08338906615972519\n",
      "Test accuracy: 0.9810000061988831\n",
      "Time Running: 18.06 seconds\n"
     ]
    },
    {
     "data": {
      "image/png": "[encoded data removed]",
      "text/plain": [
       "<Figure size 700x600 with 2 Axes>"
      ]
     },
     "metadata": {},
     "output_type": "display_data"
    }
   ],
   "source": [
    "score_mpl = model.evaluate(X_test_flatten, Y_test, verbose=0)\n",
    "predict_mpl = model.predict(X_test_flatten)\n",
    "print('Test loss:', score_mpl[0])\n",
    "print('Test accuracy:', score_mpl[1])\n",
    "print(\"Time Running: %.2f seconds\" %t_train_mpl )\n",
    "fig=plt.figure(figsize=(7,6))\n",
    "ax = fig.add_subplot(1,1,1)\n",
    "ax = sb.heatmap(pd.DataFrame(confusion_matrix(Y_test, predict_mpl.argmax(1))), annot=True, fmt=\"d\")\n"
   ]
  },
  {
   "cell_type": "markdown",
   "metadata": {},
   "source": [
    "**Question** What can you say about these results?\n",
    "\n",
    "Results are good\n",
    "\n",
    "sans normalisation un peut moins bons qu'avec la normalisation\n",
    "\n",
    "**Exercise** Normalize the data in order to have values between 0 and 1 and run again the learning. What can you say about these results?\n",
    "\n",
    "Ils sont un peu meilleurs"
   ]
  },
  {
   "cell_type": "markdown",
   "metadata": {},
   "source": [
    "## Convolutional Layers\n",
    "\n",
    "In this part we will use convolution layers to build a convolutional classifier."
   ]
  },
  {
   "cell_type": "markdown",
   "metadata": {},
   "source": [
    "\n",
    "**Data**\n",
    "\n",
    "The convolution architecture takes as input images and not 1D vectors. However, some data formating are still required.\n",
    "\n",
    "A third dimension is required : the `channels` dimension which will allow to describe each pixel. In our case this dimension's size is only 1 because the images are only defined with grey scale. However for colour images, each pixel is coded with several values (Images are generally encoded with 3 values (RGB channels)). \n",
    "\n",
    "Hence, we need to reshape the images from a 28x28 dimension to a 28X28X1 dimension"
   ]
  },
  {
   "cell_type": "code",
   "execution_count": 31,
   "metadata": {},
   "outputs": [
    {
     "data": {
      "text/plain": [
       "(60000, 28, 28, 1)"
      ]
     },
     "execution_count": 31,
     "metadata": {},
     "output_type": "execute_result"
    }
   ],
   "source": [
    "X_train_conv = np.expand_dims(X_train,axis=-1)\n",
    "X_test_conv = np.expand_dims(X_test,axis=-1)\n",
    "X_train_conv.shape"
   ]
  },
  {
   "cell_type": "markdown",
   "metadata": {
    "toc-hr-collapsed": false
   },
   "source": [
    "### Edge detection\n",
    "\n",
    "We will first check the transformation applied by a convolution layer.\n",
    "\n",
    "In the following code, we define a convolutional network with  only one filter for which we manually define the weights."
   ]
  },
  {
   "cell_type": "code",
   "execution_count": 38,
   "metadata": {},
   "outputs": [],
   "source": [
    "\n",
    "conv_filter = np.array([\n",
    "        [0.2, -0.2, 0],\n",
    "        [0.2, -0.2, 0],\n",
    "        [0.2, -0.2, 0],\n",
    "    ]) #bordures verticales\n",
    "\n",
    "conv_filter = np.array([\n",
    "        [0.2, 0.2, 0.2],\n",
    "        [-0.2, -0.2, -0.2],\n",
    "        [0, 0, 0],\n",
    "    ]) #bordures horizontales\n",
    "\n",
    "\n",
    "def my_init_filter(shape, conv_filter = conv_filter, dtype=None, partition_info=None):\n",
    "    xf,yf = conv_filter.shape\n",
    "    array = conv_filter.reshape(xf, yf, 1, 1)\n",
    "    return array\n",
    "my_init_filter(0).shape\n",
    "\n",
    "conv_edge = km.Sequential([\n",
    "    kl.Conv2D(kernel_size=(3,3), filters=1, kernel_initializer=my_init_filter, input_shape=(28, 28, 1))   \n",
    "])"
   ]
  },
  {
   "cell_type": "markdown",
   "metadata": {},
   "source": [
    " **Q** Note that in  `my_init_filter` two dimensions have been added to the conv filter. What do these dimensions represent?\n",
    " \n",
    " Les deux dimensions représentent le la pfofondeur des données le deuxième 1 représente la nombre de filtre passé\n",
    " \n",
    " The following code allows to display the image, the filter and the convoluted image."
   ]
  },
  {
   "cell_type": "code",
   "execution_count": 39,
   "metadata": {},
   "outputs": [
    {
     "data": {
      "image/png": "[encoded data removed]",
      "text/plain": [
       "<Figure size 1500x500 with 3 Axes>"
      ]
     },
     "metadata": {},
     "output_type": "display_data"
    }
   ],
   "source": [
    "x = X_train_conv[0]\n",
    "img_in = np.expand_dims(x, 0)\n",
    "img_out = conv_edge.predict(img_in)\n",
    "\n",
    "fig, (ax0, ax1, ax2) = plt.subplots(ncols=3, figsize=(15, 5))\n",
    "ax0.imshow(img_in[0,:,:,0], cmap=\"binary\")\n",
    "ax0.set_title(\"Image originale\")\n",
    "ax0.grid(False)\n",
    "\n",
    "norm_conv_filter = (conv_filter-conv_filter.min())/conv_filter.max()\n",
    "ax1.imshow(norm_conv_filter.astype(np.uint8), cmap=\"binary\")\n",
    "ax1.set_title(\"Filtre\")\n",
    "ax1.grid(False)\n",
    "\n",
    "ax2.imshow(img_out[0,:,:,0].astype(np.uint8), cmap=\"binary\")\n",
    "ax2.set_title(\"Image Filtre\")\n",
    "ax2.grid(False)\n"
   ]
  },
  {
   "cell_type": "markdown",
   "metadata": {},
   "source": [
    "**Q** What do you see? Are the output image coherent according to the designed filter ?\n",
    "\n",
    "On détecte les vertical edges\n",
    "\n",
    "**Exercise** Change the code in order to test different filters (to detect horizontal edges, etc...)\n",
    "\n",
    "i dit it"
   ]
  },
  {
   "cell_type": "markdown",
   "metadata": {},
   "source": [
    "### Strides and Padding\n",
    "\n",
    "We will now study the effect on `strides` and `padding` arguments on the image.\n"
   ]
  },
  {
   "cell_type": "code",
   "execution_count": 77,
   "metadata": {},
   "outputs": [],
   "source": [
    "conv_filter = np.array([\n",
    "        [0, 0, 0],\n",
    "        [0, 1, 0],\n",
    "        [0, 0, 0],\n",
    "    ])\n",
    "\n",
    "def my_init_filter(shape, conv_filter = conv_filter, dtype=None, partition_info = None):\n",
    "    xf,yf = conv_filter.shape\n",
    "    array = conv_filter.reshape(xf, yf, 1, 1)\n",
    "    return array\n",
    "my_init_filter(0).shape\n",
    "\n",
    "conv_sp = km.Sequential([\n",
    "    kl.Conv2D(kernel_size=(3,3), filters=1, kernel_initializer=my_init_filter, input_shape=(28, 28, 1),\n",
    "           strides=2, padding=\"SAME\") ])"
   ]
  },
  {
   "cell_type": "markdown",
   "metadata": {},
   "source": [
    "**Q** What is the effect of the convolutional filter defined here ? \n",
    "\n",
    "it is a central effect"
   ]
  },
  {
   "cell_type": "code",
   "execution_count": 78,
   "metadata": {},
   "outputs": [
    {
     "name": "stdout",
     "output_type": "stream",
     "text": [
      "WARNING:tensorflow:8 out of the last 11 calls to <function Model.make_predict_function.<locals>.predict_function at 0x7efc22c05430> triggered tf.function retracing. Tracing is expensive and the excessive number of tracings could be due to (1) creating @tf.function repeatedly in a loop, (2) passing tensors with different shapes, (3) passing Python objects instead of tensors. For (1), please define your @tf.function outside of the loop. For (2), @tf.function has experimental_relax_shapes=True option that relaxes argument shapes that can avoid unnecessary retracing. For (3), please refer to https://www.tensorflow.org/guide/function#controlling_retracing and https://www.tensorflow.org/api_docs/python/tf/function for  more details.\n"
     ]
    },
    {
     "data": {
      "image/png": "[encoded data removed]",
      "text/plain": [
       "<Figure size 1500x500 with 3 Axes>"
      ]
     },
     "metadata": {},
     "output_type": "display_data"
    }
   ],
   "source": [
    "img_in = np.expand_dims(x, 0)\n",
    "img_out = conv_sp.predict(img_in)\n",
    "\n",
    "fig, (ax0, ax1, ax2) = plt.subplots(ncols=3, figsize=(15, 5))\n",
    "ax0.imshow(img_in[0,:,:,0].astype(np.uint8),\n",
    "           cmap=\"binary\");\n",
    "ax0.grid(False)\n",
    "\n",
    "norm_conv_filter = (conv_filter-conv_filter.min())/conv_filter.max()\n",
    "ax1.imshow(norm_conv_filter.astype(np.uint8),\n",
    "           cmap=\"binary\");\n",
    "ax1.grid(False)\n",
    "\n",
    "ax2.imshow(img_out[0,:,:,0].astype(np.uint8),\n",
    "           cmap=\"binary\");\n",
    "ax2.grid(False)"
   ]
  },
  {
   "cell_type": "markdown",
   "metadata": {},
   "source": [
    "**Exercise** Check the dimension of the output images. Are they coherent? <br>\n",
    "\n",
    "on divise la teille finale par 2 car stride = 2\n",
    "\n",
    "**Exercise** Change both *strides* and *padding* arguments and understand the effect of these changes."
   ]
  },
  {
   "cell_type": "markdown",
   "metadata": {},
   "source": [
    "### Max Pooling"
   ]
  },
  {
   "cell_type": "markdown",
   "metadata": {},
   "source": [
    "**Exercice** Write a similar code than above to check and understand the behaviour of the `max pooling` layer."
   ]
  },
  {
   "cell_type": "code",
   "execution_count": 79,
   "metadata": {},
   "outputs": [],
   "source": [
    "# %load solutions/max_pooling.py\n",
    "\n",
    "conv_filter = np.array([\n",
    "        [0, 0, 0],\n",
    "        [0, 1, 0],\n",
    "        [0, 0, 0],\n",
    "    ])\n",
    "\n",
    "def my_init_filter(shape, conv_filter = conv_filter, dtype=None, partition_info = None):\n",
    "    xf,yf = conv_filter.shape\n",
    "    array = conv_filter.reshape(xf, yf, 1, 1)\n",
    "    return array\n",
    "my_init_filter(0).shape\n",
    "\n",
    "maxp_sp = km.Sequential([ kl.MaxPooling2D(pool_size=(4, 2), strides=(1, 1))])"
   ]
  },
  {
   "cell_type": "code",
   "execution_count": 80,
   "metadata": {},
   "outputs": [
    {
     "name": "stdout",
     "output_type": "stream",
     "text": [
      "WARNING:tensorflow:8 out of the last 11 calls to <function Model.make_predict_function.<locals>.predict_function at 0x7efc22382b80> triggered tf.function retracing. Tracing is expensive and the excessive number of tracings could be due to (1) creating @tf.function repeatedly in a loop, (2) passing tensors with different shapes, (3) passing Python objects instead of tensors. For (1), please define your @tf.function outside of the loop. For (2), @tf.function has experimental_relax_shapes=True option that relaxes argument shapes that can avoid unnecessary retracing. For (3), please refer to https://www.tensorflow.org/guide/function#controlling_retracing and https://www.tensorflow.org/api_docs/python/tf/function for  more details.\n"
     ]
    },
    {
     "data": {
      "image/png": "[encoded data removed]",
      "text/plain": [
       "<Figure size 1500x500 with 2 Axes>"
      ]
     },
     "metadata": {},
     "output_type": "display_data"
    }
   ],
   "source": [
    "img_in = np.expand_dims(x, 0)\n",
    "img_out = maxp_sp.predict(img_in)\n",
    "\n",
    "fig, (ax0,  ax2) = plt.subplots(ncols=2, figsize=(15, 5))\n",
    "ax0.imshow(img_in[0,:,:,0].astype(np.uint8),\n",
    "           cmap=\"binary\");\n",
    "ax0.grid(False)\n",
    "\n",
    "\n",
    "ax2.imshow(img_out[0,:,:,0].astype(np.uint8),\n",
    "           cmap=\"binary\");\n",
    "ax2.grid(False)"
   ]
  },
  {
   "cell_type": "markdown",
   "metadata": {},
   "source": [
    "**Questions** What are the dimension of the output image? Is this normal?\n",
    "\n",
    "yes of course it is normal i did'nt put any stride."
   ]
  },
  {
   "cell_type": "markdown",
   "metadata": {},
   "source": [
    "## *Convolutional Network (ConvNet)*\n",
    "\n",
    "We will now build convolutional networks and see the performances on this kind of model on  image classification problems."
   ]
  },
  {
   "cell_type": "markdown",
   "metadata": {},
   "source": [
    "### LeNet5\n",
    "\n",
    "We first test the  LeNet5 model, proposed by LeCun et al."
   ]
  },
  {
   "cell_type": "code",
   "execution_count": 81,
   "metadata": {},
   "outputs": [
    {
     "name": "stdout",
     "output_type": "stream",
     "text": [
      "Model: \"sequential_16\"\n",
      "_________________________________________________________________\n",
      "Layer (type)                 Output Shape              Param #   \n",
      "=================================================================\n",
      "conv2d_13 (Conv2D)           (None, 24, 24, 6)         156       \n",
      "_________________________________________________________________\n",
      "max_pooling2d_9 (MaxPooling2 (None, 12, 12, 6)         0         \n",
      "_________________________________________________________________\n",
      "conv2d_14 (Conv2D)           (None, 8, 8, 16)          2416      \n",
      "_________________________________________________________________\n",
      "max_pooling2d_10 (MaxPooling (None, 4, 4, 16)          0         \n",
      "_________________________________________________________________\n",
      "flatten (Flatten)            (None, 256)               0         \n",
      "_________________________________________________________________\n",
      "dense_3 (Dense)              (None, 120)               30840     \n",
      "_________________________________________________________________\n",
      "dense_4 (Dense)              (None, 84)                10164     \n",
      "_________________________________________________________________\n",
      "dense_5 (Dense)              (None, 10)                850       \n",
      "=================================================================\n",
      "Total params: 44,426\n",
      "Trainable params: 44,426\n",
      "Non-trainable params: 0\n",
      "_________________________________________________________________\n"
     ]
    }
   ],
   "source": [
    "LeNet5model = km.Sequential()\n",
    "LeNet5model.add(kl.Conv2D(filters = 6, kernel_size = 5, strides = 1, activation = 'tanh',\n",
    "input_shape = (28,28,1)))\n",
    "LeNet5model.add(kl.MaxPooling2D(pool_size = 2, strides = 2))\n",
    "LeNet5model.add(kl.Conv2D(filters = 16, kernel_size = 5,strides = 1, activation = 'tanh'))\n",
    "LeNet5model.add(kl.MaxPooling2D(pool_size = 2, strides = 2))\n",
    "LeNet5model.add(kl.Flatten())\n",
    "LeNet5model.add(kl.Dense(units = 120, activation = 'tanh'))\n",
    "LeNet5model.add(kl.Dense(units = 84, activation = 'tanh'))\n",
    "LeNet5model.add(kl.Dense(units = 10, activation = 'softmax'))\n",
    "\n",
    "LeNet5model.summary()"
   ]
  },
  {
   "cell_type": "markdown",
   "metadata": {},
   "source": [
    "**Exercise** Retrieve 'manually' the number of parameters of this model.\n",
    "\n",
    "(5*5*1 + 1)6 = 156\n",
    "\n",
    "(5*5*6+1)*16 = 2416\n",
    "\n",
    "256*120+120 = 30840\n",
    "\n",
    "120*84 +84 = 10164\n",
    "\n",
    "84*10 +10 = 850\n",
    "\n",
    "**Question** What can you say about the total number of parameters compared with the MLP model defined before? Which layer has the highest number of parameters?\n",
    "\n",
    "there is less than (twice less) (y en a moins que (2 fois moins))"
   ]
  },
  {
   "cell_type": "code",
   "execution_count": 82,
   "metadata": {},
   "outputs": [
    {
     "name": "stdout",
     "output_type": "stream",
     "text": [
      "Epoch 1/30\n",
      "469/469 [==============================] - 14s 29ms/step - loss: 2.2657 - accuracy: 0.1760 - val_loss: 2.2144 - val_accuracy: 0.2051\n",
      "Epoch 2/30\n",
      "469/469 [==============================] - 14s 29ms/step - loss: 2.1944 - accuracy: 0.2153 - val_loss: 2.1477 - val_accuracy: 0.2457\n",
      "Epoch 3/30\n",
      "469/469 [==============================] - 15s 32ms/step - loss: 2.1286 - accuracy: 0.2613 - val_loss: 2.0859 - val_accuracy: 0.2969\n",
      "Epoch 4/30\n",
      "469/469 [==============================] - 13s 27ms/step - loss: 2.0683 - accuracy: 0.3210 - val_loss: 2.0260 - val_accuracy: 0.3575\n",
      "Epoch 5/30\n",
      "469/469 [==============================] - 13s 28ms/step - loss: 2.0085 - accuracy: 0.3759 - val_loss: 1.9664 - val_accuracy: 0.4058\n",
      "Epoch 6/30\n",
      "469/469 [==============================] - 16s 33ms/step - loss: 1.9519 - accuracy: 0.4201 - val_loss: 1.9071 - val_accuracy: 0.4482\n",
      "Epoch 7/30\n",
      "469/469 [==============================] - 12s 25ms/step - loss: 1.8930 - accuracy: 0.4548 - val_loss: 1.8476 - val_accuracy: 0.4828\n",
      "Epoch 8/30\n",
      "469/469 [==============================] - 11s 23ms/step - loss: 1.8390 - accuracy: 0.4848 - val_loss: 1.7885 - val_accuracy: 0.5142\n",
      "Epoch 9/30\n",
      "469/469 [==============================] - 13s 29ms/step - loss: 1.7799 - accuracy: 0.5133 - val_loss: 1.7300 - val_accuracy: 0.5401\n",
      "Epoch 10/30\n",
      "469/469 [==============================] - 16s 33ms/step - loss: 1.7179 - accuracy: 0.5433 - val_loss: 1.6722 - val_accuracy: 0.5639\n",
      "Epoch 11/30\n",
      "469/469 [==============================] - 16s 35ms/step - loss: 1.6605 - accuracy: 0.5640 - val_loss: 1.6155 - val_accuracy: 0.5844\n",
      "Epoch 12/30\n",
      "469/469 [==============================] - 17s 37ms/step - loss: 1.6097 - accuracy: 0.5832 - val_loss: 1.5605 - val_accuracy: 0.6059\n",
      "Epoch 13/30\n",
      "469/469 [==============================] - 13s 27ms/step - loss: 1.5557 - accuracy: 0.6020 - val_loss: 1.5072 - val_accuracy: 0.6210\n",
      "Epoch 14/30\n",
      "469/469 [==============================] - 14s 31ms/step - loss: 1.5034 - accuracy: 0.6198 - val_loss: 1.4561 - val_accuracy: 0.6368\n",
      "Epoch 15/30\n",
      "469/469 [==============================] - 13s 28ms/step - loss: 1.4560 - accuracy: 0.6343 - val_loss: 1.4070 - val_accuracy: 0.6518\n",
      "Epoch 16/30\n",
      "469/469 [==============================] - 11s 23ms/step - loss: 1.4029 - accuracy: 0.6507 - val_loss: 1.3599 - val_accuracy: 0.6668\n",
      "Epoch 17/30\n",
      "469/469 [==============================] - 11s 23ms/step - loss: 1.3580 - accuracy: 0.6645 - val_loss: 1.3149 - val_accuracy: 0.6778\n",
      "Epoch 18/30\n",
      "469/469 [==============================] - 13s 28ms/step - loss: 1.3158 - accuracy: 0.6765 - val_loss: 1.2720 - val_accuracy: 0.6910\n",
      "Epoch 19/30\n",
      "469/469 [==============================] - 13s 28ms/step - loss: 1.2795 - accuracy: 0.6837 - val_loss: 1.2311 - val_accuracy: 0.7022\n",
      "Epoch 20/30\n",
      "469/469 [==============================] - 10s 22ms/step - loss: 1.2346 - accuracy: 0.7017 - val_loss: 1.1920 - val_accuracy: 0.7136\n",
      "Epoch 21/30\n",
      "469/469 [==============================] - 9s 20ms/step - loss: 1.1998 - accuracy: 0.7071 - val_loss: 1.1547 - val_accuracy: 0.7220\n",
      "Epoch 22/30\n",
      "469/469 [==============================] - 12s 25ms/step - loss: 1.1623 - accuracy: 0.7194 - val_loss: 1.1194 - val_accuracy: 0.7320\n",
      "Epoch 23/30\n",
      "469/469 [==============================] - 9s 20ms/step - loss: 1.1264 - accuracy: 0.7262 - val_loss: 1.0859 - val_accuracy: 0.7410\n",
      "Epoch 24/30\n",
      "469/469 [==============================] - 11s 24ms/step - loss: 1.0942 - accuracy: 0.7383 - val_loss: 1.0539 - val_accuracy: 0.7494\n",
      "Epoch 25/30\n",
      "469/469 [==============================] - 11s 23ms/step - loss: 1.0628 - accuracy: 0.7458 - val_loss: 1.0236 - val_accuracy: 0.7563\n",
      "Epoch 26/30\n",
      "469/469 [==============================] - 10s 22ms/step - loss: 1.0346 - accuracy: 0.7528 - val_loss: 0.9947 - val_accuracy: 0.7631\n",
      "Epoch 27/30\n",
      "469/469 [==============================] - 12s 26ms/step - loss: 1.0035 - accuracy: 0.7599 - val_loss: 0.9673 - val_accuracy: 0.7686\n",
      "Epoch 28/30\n",
      "469/469 [==============================] - 12s 26ms/step - loss: 0.9786 - accuracy: 0.7637 - val_loss: 0.9412 - val_accuracy: 0.7752\n",
      "Epoch 29/30\n",
      "469/469 [==============================] - 8s 17ms/step - loss: 0.9512 - accuracy: 0.7723 - val_loss: 0.9164 - val_accuracy: 0.7816\n",
      "Epoch 30/30\n",
      "469/469 [==============================] - 14s 30ms/step - loss: 0.9224 - accuracy: 0.7785 - val_loss: 0.8928 - val_accuracy: 0.7881\n"
     ]
    }
   ],
   "source": [
    "# Apprentissage\n",
    "batch_size=128\n",
    "epochs=30\n",
    "LeNet5model.compile(loss=\"sparse_categorical_crossentropy\",\n",
    "              optimizer=ko.Adadelta(),\n",
    "              metrics=['accuracy'])\n",
    "ts=time.time()\n",
    "LeNet5model.fit(X_train_conv, Y_train,\n",
    "          batch_size=batch_size,\n",
    "          epochs=epochs,\n",
    "          verbose=1,\n",
    "          validation_data=(X_test_conv, Y_test))\n",
    "te=time.time()\n",
    "t_train_conv = te-ts"
   ]
  },
  {
   "cell_type": "markdown",
   "metadata": {},
   "source": [
    "**Q** Why is the training time longer?\n",
    "\n",
    "Because plusieurs epoch, plus de filtres, plus de couches\n"
   ]
  },
  {
   "cell_type": "markdown",
   "metadata": {},
   "source": [
    "#### Results"
   ]
  },
  {
   "cell_type": "code",
   "execution_count": 83,
   "metadata": {},
   "outputs": [
    {
     "name": "stdout",
     "output_type": "stream",
     "text": [
      "WARNING:tensorflow:8 out of the last 11 calls to <function Model.make_predict_function.<locals>.predict_function at 0x7efc219e48b0> triggered tf.function retracing. Tracing is expensive and the excessive number of tracings could be due to (1) creating @tf.function repeatedly in a loop, (2) passing tensors with different shapes, (3) passing Python objects instead of tensors. For (1), please define your @tf.function outside of the loop. For (2), @tf.function has experimental_relax_shapes=True option that relaxes argument shapes that can avoid unnecessary retracing. For (3), please refer to https://www.tensorflow.org/guide/function#controlling_retracing and https://www.tensorflow.org/api_docs/python/tf/function for  more details.\n",
      "Test loss: 0.8927780985832214\n",
      "Test accuracy: 0.788100004196167\n",
      "Time Running: 377.75 seconds\n"
     ]
    },
    {
     "data": {
      "image/png": "[encoded data removed]",
      "text/plain": [
       "<Figure size 700x600 with 2 Axes>"
      ]
     },
     "metadata": {},
     "output_type": "display_data"
    }
   ],
   "source": [
    "score_conv = LeNet5model.evaluate(X_test_conv, Y_test, verbose=0)\n",
    "predict_conv = LeNet5model.predict(X_test_conv)\n",
    "print('Test loss:', score_conv[0])\n",
    "print('Test accuracy:', score_conv[1])\n",
    "print(\"Time Running: %.2f seconds\" %t_train_conv )\n",
    "\n",
    "fig=plt.figure(figsize=(7,6))\n",
    "ax = fig.add_subplot(1,1,1)\n",
    "ax = sb.heatmap(pd.DataFrame(confusion_matrix(Y_test, predict_conv.argmax(1))), annot=True, fmt=\"d\")\n"
   ]
  },
  {
   "cell_type": "markdown",
   "metadata": {},
   "source": [
    "### A more complex architecture\n",
    "\n",
    "#### Network\n",
    "\n",
    "We will now design a more complex architecture to try to improve the results of the classification :\n",
    "\n",
    "* A Conv2D layer with 32-3X3 filters and the `Relu` activation function.\n",
    "* A Conv2D layer with 642-3X3 filters and the `Relu` activation function.\n",
    "* A MaxPooling layer with a 2X2 window.\n",
    "* A Dropout layer with a 25% drop rate.\n",
    "* A flatten layer.\n",
    "* A Dense layer with 128 neurons  and the `Relu` activation function.\n",
    "* A Dropout layer with a 50% drop rate.\n",
    "* A Dense layer with 10 neurons  and the `softmax` activation function.\n",
    "\n",
    "\n",
    "**Exercise** Define this model and train it."
   ]
  },
  {
   "cell_type": "code",
   "execution_count": null,
   "metadata": {},
   "outputs": [],
   "source": [
    "# %load solutions/mnist_conv_architecture.py\n",
    "\n",
    "Momodel = km.Sequential()\n",
    "Momodel.add(kl.Conv2D(filters = 32, kernel_size = 3, strides = 1, activation = 'relu',\n",
    "input_shape = (28,28,1)))\n",
    "Momodel.add(kl.Conv2D(filters = 642, kernel_size = 3,strides = 1, activation = 'relu'))\n",
    "Momodel.add(kl.MaxPooling2D(pool_size = 2, strides = 2))\n",
    "Momodel.add(kl.Dropout(0.25))\n",
    "Momodel.add(kl.Flatten())\n",
    "Momodel.add(kl.Dense(units = 128, activation = 'relu'))\n",
    "Momodel.add(kl.Dropout(0.5))\n",
    "Momodel.add(kl.Dense(units = 10, activation = 'softmax'))\n",
    "\n",
    "Momodel.summary()\n"
   ]
  },
  {
   "cell_type": "code",
   "execution_count": 91,
   "metadata": {},
   "outputs": [
    {
     "name": "stdout",
     "output_type": "stream",
     "text": [
      "Epoch 1/5\n",
      "469/469 [==============================] - 379s 806ms/step - loss: 4.9287 - accuracy: 0.3189 - val_loss: 0.7651 - val_accuracy: 0.8312\n",
      "Epoch 2/5\n",
      "469/469 [==============================] - 384s 820ms/step - loss: 1.2036 - accuracy: 0.6173 - val_loss: 0.4694 - val_accuracy: 0.8933\n",
      "Epoch 3/5\n",
      "469/469 [==============================] - 359s 765ms/step - loss: 0.8948 - accuracy: 0.7217 - val_loss: 0.3488 - val_accuracy: 0.9129\n",
      "Epoch 4/5\n",
      "469/469 [==============================] - 369s 787ms/step - loss: 0.7464 - accuracy: 0.7708 - val_loss: 0.2911 - val_accuracy: 0.9257\n",
      "Epoch 5/5\n",
      " 73/469 [===>..........................] - ETA: 5:16 - loss: 0.7053 - accuracy: 0.7965"
     ]
    }
   ],
   "source": [
    "# Apprentissage\n",
    "batch_size=128\n",
    "epochs=5\n",
    "Momodel.compile(loss=\"sparse_categorical_crossentropy\",\n",
    "              optimizer=ko.Adadelta(),\n",
    "              metrics=['accuracy'])\n",
    "ts=time.time()\n",
    "Momodel.fit(X_train_conv, Y_train,\n",
    "          batch_size=batch_size,\n",
    "          epochs=epochs,\n",
    "          verbose=1,\n",
    "          validation_data=(X_test_conv, Y_test))\n",
    "te=time.time()\n",
    "t_train_conv = te-ts"
   ]
  },
  {
   "cell_type": "code",
   "execution_count": null,
   "metadata": {},
   "outputs": [],
   "source": [
    "score_conv = model.evaluate(X_test_conv, Y_test, verbose=0)\n",
    "predict_conv = model.predict(X_test_conv)\n",
    "print('Test loss:', score_conv[0])\n",
    "print('Test accuracy:', score_conv[1])\n",
    "print(\"Time Running: %.2f seconds\" %t_train_conv )\n",
    "\n",
    "fig=plt.figure(figsize=(7,6))\n",
    "ax = fig.add_subplot(1,1,1)\n",
    "ax = sb.heatmap(pd.DataFrame(confusion_matrix(Y_test, predict_conv.argmax(1))), annot=True, fmt=\"d\")"
   ]
  },
  {
   "cell_type": "markdown",
   "metadata": {},
   "source": [
    "**Q** Comment the results.\n",
    "\n",
    "\n",
    "\n",
    "**Q** How to improve them?"
   ]
  }
 ],
 "metadata": {
  "hide_input": false,
  "kernelspec": {
   "display_name": "Python 3 (ipykernel)",
   "language": "python",
   "name": "python3"
  },
  "language_info": {
   "codemirror_mode": {
    "name": "ipython",
    "version": 3
   },
   "file_extension": ".py",
   "mimetype": "text/x-python",
   "name": "python",
   "nbconvert_exporter": "python",
   "pygments_lexer": "ipython3",
   "version": "3.9.12"
  },
  "toc": {
   "nav_menu": {},
   "number_sections": true,
   "sideBar": true,
   "skip_h1_title": false,
   "toc_cell": false,
   "toc_position": {},
   "toc_section_display": "block",
   "toc_window_display": true
  }
 },
 "nbformat": 4,
 "nbformat_minor": 4
}
